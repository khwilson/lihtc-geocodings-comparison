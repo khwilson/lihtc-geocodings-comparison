{
 "cells": [
  {
   "cell_type": "code",
   "execution_count": 100,
   "metadata": {},
   "outputs": [],
   "source": [
    "import geopandas as gpd\n",
    "import numpy as np\n",
    "import pandas as pd\n",
    "from matplotlib import pyplot as plt\n",
    "from pyproj import CRS, Transformer\n",
    "from shapely.geometry import Polygon\n",
    "from tqdm import tqdm\n",
    "\n",
    "tqdm.pandas()"
   ]
  },
  {
   "cell_type": "code",
   "execution_count": 2,
   "metadata": {},
   "outputs": [],
   "source": [
    "df = pd.read_parquet(\"../../data/geocoded/census_geocoder.parquet\")"
   ]
  },
  {
   "cell_type": "code",
   "execution_count": 3,
   "metadata": {},
   "outputs": [
    {
     "data": {
      "text/html": [
       "<div>\n",
       "<style scoped>\n",
       "    .dataframe tbody tr th:only-of-type {\n",
       "        vertical-align: middle;\n",
       "    }\n",
       "\n",
       "    .dataframe tbody tr th {\n",
       "        vertical-align: top;\n",
       "    }\n",
       "\n",
       "    .dataframe thead th {\n",
       "        text-align: right;\n",
       "    }\n",
       "</style>\n",
       "<table border=\"1\" class=\"dataframe\">\n",
       "  <thead>\n",
       "    <tr style=\"text-align: right;\">\n",
       "      <th></th>\n",
       "      <th>hud_id</th>\n",
       "      <th>project</th>\n",
       "      <th>proj_add</th>\n",
       "      <th>proj_cty</th>\n",
       "      <th>proj_st</th>\n",
       "      <th>proj_zip</th>\n",
       "      <th>state_id</th>\n",
       "      <th>latitude</th>\n",
       "      <th>longitude</th>\n",
       "      <th>place1990</th>\n",
       "      <th>...</th>\n",
       "      <th>matchtype</th>\n",
       "      <th>parsed</th>\n",
       "      <th>tigerlineid</th>\n",
       "      <th>side</th>\n",
       "      <th>statefp</th>\n",
       "      <th>countyfp</th>\n",
       "      <th>tract</th>\n",
       "      <th>block</th>\n",
       "      <th>lat</th>\n",
       "      <th>lon</th>\n",
       "    </tr>\n",
       "  </thead>\n",
       "  <tbody>\n",
       "    <tr>\n",
       "      <th>0</th>\n",
       "      <td>AKA0000X003</td>\n",
       "      <td>EAGLE RIDGE TOWNHOMES</td>\n",
       "      <td>1775 NORTH THUMA</td>\n",
       "      <td>PALMER</td>\n",
       "      <td>AK</td>\n",
       "      <td>99645</td>\n",
       "      <td>AK-05-23</td>\n",
       "      <td>61.587872</td>\n",
       "      <td>-149.099777</td>\n",
       "      <td>NaN</td>\n",
       "      <td>...</td>\n",
       "      <td>None</td>\n",
       "      <td>None</td>\n",
       "      <td>None</td>\n",
       "      <td>None</td>\n",
       "      <td>None</td>\n",
       "      <td>None</td>\n",
       "      <td>None</td>\n",
       "      <td>None</td>\n",
       "      <td>NaN</td>\n",
       "      <td>NaN</td>\n",
       "    </tr>\n",
       "    <tr>\n",
       "      <th>1</th>\n",
       "      <td>AKA0000X018</td>\n",
       "      <td>GATEWAY-SEWARD ASSOCIATES, LTD PTN</td>\n",
       "      <td>1810 PHOENIX ROAD</td>\n",
       "      <td>SEWARD</td>\n",
       "      <td>AK</td>\n",
       "      <td>99664</td>\n",
       "      <td>AK-99-99</td>\n",
       "      <td>60.125469</td>\n",
       "      <td>-149.446060</td>\n",
       "      <td>NaN</td>\n",
       "      <td>...</td>\n",
       "      <td>Exact</td>\n",
       "      <td>1810 PHOENIX RD, SEWARD, AK, 99664</td>\n",
       "      <td>191035270</td>\n",
       "      <td>L</td>\n",
       "      <td>02</td>\n",
       "      <td>122</td>\n",
       "      <td>001300</td>\n",
       "      <td>2059</td>\n",
       "      <td>60.125024</td>\n",
       "      <td>-149.445991</td>\n",
       "    </tr>\n",
       "    <tr>\n",
       "      <th>2</th>\n",
       "      <td>AKA0000X022</td>\n",
       "      <td>JUNEAU AFFORDABLE RENTALS, LLC</td>\n",
       "      <td>SCATTERED SITE</td>\n",
       "      <td>JUNEAU</td>\n",
       "      <td>AK</td>\n",
       "      <td>99801</td>\n",
       "      <td>AK-99-99</td>\n",
       "      <td>58.383499</td>\n",
       "      <td>-134.437698</td>\n",
       "      <td>NaN</td>\n",
       "      <td>...</td>\n",
       "      <td>None</td>\n",
       "      <td>None</td>\n",
       "      <td>None</td>\n",
       "      <td>None</td>\n",
       "      <td>None</td>\n",
       "      <td>None</td>\n",
       "      <td>None</td>\n",
       "      <td>None</td>\n",
       "      <td>NaN</td>\n",
       "      <td>NaN</td>\n",
       "    </tr>\n",
       "    <tr>\n",
       "      <th>3</th>\n",
       "      <td>AKA0000X024</td>\n",
       "      <td>MILL BAY TOWNHOMES, LLC</td>\n",
       "      <td>1223 MILL BAY ROAD</td>\n",
       "      <td>KODIAK</td>\n",
       "      <td>AK</td>\n",
       "      <td>99615</td>\n",
       "      <td>AK-99-99</td>\n",
       "      <td>57.796478</td>\n",
       "      <td>-152.392319</td>\n",
       "      <td>NaN</td>\n",
       "      <td>...</td>\n",
       "      <td>Exact</td>\n",
       "      <td>1223 MILL BAY RD, KODIAK, AK, 99615</td>\n",
       "      <td>193545416</td>\n",
       "      <td>L</td>\n",
       "      <td>02</td>\n",
       "      <td>150</td>\n",
       "      <td>000200</td>\n",
       "      <td>3003</td>\n",
       "      <td>57.796589</td>\n",
       "      <td>-152.391638</td>\n",
       "    </tr>\n",
       "    <tr>\n",
       "      <th>4</th>\n",
       "      <td>AKA0000X030</td>\n",
       "      <td>TURNAGAIN PLACE APTS</td>\n",
       "      <td>2708 COHO WAY</td>\n",
       "      <td>ANCHORAGE</td>\n",
       "      <td>AK</td>\n",
       "      <td>99517</td>\n",
       "      <td>AK-99-99</td>\n",
       "      <td>61.205101</td>\n",
       "      <td>-149.930298</td>\n",
       "      <td>NaN</td>\n",
       "      <td>...</td>\n",
       "      <td>None</td>\n",
       "      <td>None</td>\n",
       "      <td>None</td>\n",
       "      <td>None</td>\n",
       "      <td>None</td>\n",
       "      <td>None</td>\n",
       "      <td>None</td>\n",
       "      <td>None</td>\n",
       "      <td>NaN</td>\n",
       "      <td>NaN</td>\n",
       "    </tr>\n",
       "  </tbody>\n",
       "</table>\n",
       "<p>5 rows × 88 columns</p>\n",
       "</div>"
      ],
      "text/plain": [
       "        hud_id                             project            proj_add  \\\n",
       "0  AKA0000X003               EAGLE RIDGE TOWNHOMES    1775 NORTH THUMA   \n",
       "1  AKA0000X018  GATEWAY-SEWARD ASSOCIATES, LTD PTN   1810 PHOENIX ROAD   \n",
       "2  AKA0000X022      JUNEAU AFFORDABLE RENTALS, LLC      SCATTERED SITE   \n",
       "3  AKA0000X024             MILL BAY TOWNHOMES, LLC  1223 MILL BAY ROAD   \n",
       "4  AKA0000X030                TURNAGAIN PLACE APTS       2708 COHO WAY   \n",
       "\n",
       "    proj_cty proj_st proj_zip  state_id   latitude   longitude  place1990  \\\n",
       "0     PALMER      AK    99645  AK-05-23  61.587872 -149.099777        NaN   \n",
       "1     SEWARD      AK    99664  AK-99-99  60.125469 -149.446060        NaN   \n",
       "2     JUNEAU      AK    99801  AK-99-99  58.383499 -134.437698        NaN   \n",
       "3     KODIAK      AK    99615  AK-99-99  57.796478 -152.392319        NaN   \n",
       "4  ANCHORAGE      AK    99517  AK-99-99  61.205101 -149.930298        NaN   \n",
       "\n",
       "   ...  matchtype                               parsed tigerlineid  side  \\\n",
       "0  ...       None                                 None        None  None   \n",
       "1  ...      Exact   1810 PHOENIX RD, SEWARD, AK, 99664   191035270     L   \n",
       "2  ...       None                                 None        None  None   \n",
       "3  ...      Exact  1223 MILL BAY RD, KODIAK, AK, 99615   193545416     L   \n",
       "4  ...       None                                 None        None  None   \n",
       "\n",
       "  statefp  countyfp   tract  block        lat         lon  \n",
       "0    None      None    None   None        NaN         NaN  \n",
       "1      02       122  001300   2059  60.125024 -149.445991  \n",
       "2    None      None    None   None        NaN         NaN  \n",
       "3      02       150  000200   3003  57.796589 -152.391638  \n",
       "4    None      None    None   None        NaN         NaN  \n",
       "\n",
       "[5 rows x 88 columns]"
      ]
     },
     "execution_count": 3,
     "metadata": {},
     "output_type": "execute_result"
    }
   ],
   "source": [
    "df.head()"
   ]
  },
  {
   "cell_type": "code",
   "execution_count": 4,
   "metadata": {},
   "outputs": [],
   "source": [
    "missing_add_or_cty = df[\"proj_add\"].isna() | df[\"proj_cty\"].isna()\n",
    "missing_orig_lat_lon = df[\"latitude\"].isna() | df[\"longitude\"].isna()\n",
    "missing_cg_lat_lon = df[\"lat\"].isna() | df[\"lon\"].isna()"
   ]
  },
  {
   "cell_type": "code",
   "execution_count": 5,
   "metadata": {},
   "outputs": [
    {
     "name": "stdout",
     "output_type": "stream",
     "text": [
      "# Missing original address or city: 990\n",
      "# Missing original lat or long: 2394\n",
      "# Missing cg lat or long: 9343\n",
      "# Missing original address or city & original lat or lon: 954\n"
     ]
    }
   ],
   "source": [
    "print(f\"# Missing original address or city: {missing_add_or_cty.sum()}\")\n",
    "print(f\"# Missing original lat or long: {missing_orig_lat_lon.sum()}\")\n",
    "print(f\"# Missing cg lat or long: {missing_cg_lat_lon.sum()}\")\n",
    "\n",
    "# So a very small number of places can be reverse geocoded it seems\n",
    "print(\n",
    "    f\"# Missing original address or city & original lat or lon: {(missing_add_or_cty & missing_orig_lat_lon).sum()}\"\n",
    ")"
   ]
  },
  {
   "cell_type": "code",
   "execution_count": 6,
   "metadata": {},
   "outputs": [],
   "source": [
    "# Let's check the original lat/lon versus the cg lat/lon when it exists\n",
    "focus_df = df[~missing_orig_lat_lon & ~missing_cg_lat_lon]"
   ]
  },
  {
   "cell_type": "code",
   "execution_count": 19,
   "metadata": {},
   "outputs": [],
   "source": [
    "orig_gdf = gpd.GeoDataFrame(\n",
    "    focus_df[[\"my_id\"]],\n",
    "    geometry=gpd.points_from_xy(focus_df[\"longitude\"], focus_df[\"latitude\"]),\n",
    "    crs=\"epsg:4326\",\n",
    ")\n",
    "cg_gdf = gpd.GeoDataFrame(\n",
    "    focus_df[[\"my_id\"]],\n",
    "    geometry=gpd.points_from_xy(focus_df[\"lon\"], focus_df[\"lat\"]),\n",
    "    crs=\"epsg:4326\",\n",
    ")"
   ]
  },
  {
   "cell_type": "code",
   "execution_count": 20,
   "metadata": {},
   "outputs": [
    {
     "data": {
      "text/plain": [
       "<AxesSubplot: >"
      ]
     },
     "execution_count": 20,
     "metadata": {},
     "output_type": "execute_result"
    },
    {
     "data": {
      "image/png": "[encoded data removed]",
      "text/plain": [
       "<Figure size 640x480 with 1 Axes>"
      ]
     },
     "metadata": {},
     "output_type": "display_data"
    }
   ],
   "source": [
    "# Make sure the CRS is correct\n",
    "orig_gdf.sample(n=1_000).plot()"
   ]
  },
  {
   "cell_type": "code",
   "execution_count": 21,
   "metadata": {},
   "outputs": [
    {
     "data": {
      "text/plain": [
       "<AxesSubplot: >"
      ]
     },
     "execution_count": 21,
     "metadata": {},
     "output_type": "execute_result"
    },
    {
     "data": {
      "image/png": "[encoded data removed]",
      "text/plain": [
       "<Figure size 640x480 with 1 Axes>"
      ]
     },
     "metadata": {},
     "output_type": "display_data"
    }
   ],
   "source": [
    "cg_gdf.sample(n=1_000).plot()"
   ]
  },
  {
   "cell_type": "code",
   "execution_count": 22,
   "metadata": {},
   "outputs": [],
   "source": [
    "df = pd.read_csv(\"../../data/county-epsg.csv\")"
   ]
  },
  {
   "cell_type": "code",
   "execution_count": 24,
   "metadata": {},
   "outputs": [],
   "source": [
    "# This number should be around 124\n",
    "epsg_df = pd.DataFrame({\"epsg\": df[\"EPSG\"].unique()})\n",
    "\n",
    "geometry = []\n",
    "for i in range(len(epsg_df)):\n",
    "    crs = CRS(epsg_df[\"epsg\"].iloc[i])\n",
    "    l = list(\n",
    "        map(\n",
    "            float,\n",
    "            [x for x in repr(crs).split(\"\\n\") if x.startswith(\"- bounds:\")][0][\n",
    "                len(\"- bounds: (\") : -1\n",
    "            ].split(\", \"),\n",
    "        )\n",
    "    )\n",
    "    geometry.append(Polygon([(l[0], l[1]), (l[0], l[3]), (l[2], l[3]), (l[2], l[1])]))\n",
    "\n",
    "epsg_gdf = gpd.GeoDataFrame(\n",
    "    epsg_df,\n",
    "    geometry=geometry,\n",
    ")"
   ]
  },
  {
   "cell_type": "code",
   "execution_count": 25,
   "metadata": {},
   "outputs": [
    {
     "data": {
      "text/plain": [
       "<AxesSubplot: >"
      ]
     },
     "execution_count": 25,
     "metadata": {},
     "output_type": "execute_result"
    },
    {
     "data": {
      "image/png": "[encoded data removed]",
      "text/plain": [
       "<Figure size 640x480 with 1 Axes>"
      ]
     },
     "metadata": {},
     "output_type": "display_data"
    }
   ],
   "source": [
    "# Should generally look vaguely US-like\n",
    "epsg_gdf.plot()"
   ]
  },
  {
   "cell_type": "code",
   "execution_count": 29,
   "metadata": {},
   "outputs": [
    {
     "name": "stderr",
     "output_type": "stream",
     "text": [
      "/var/folders/_8/wxdcgmrd7b931622mzvpxn6c0000gq/T/ipykernel_74141/3620345625.py:1: UserWarning: CRS mismatch between the CRS of left geometries and the CRS of right geometries.\n",
      "Use `to_crs()` to reproject one of the input geometries to match the CRS of the other.\n",
      "\n",
      "Left CRS: EPSG:4326\n",
      "Right CRS: None\n",
      "\n",
      "  orig_sjoined_df = gpd.sjoin(orig_gdf, epsg_gdf, how=\"left\")\n"
     ]
    }
   ],
   "source": [
    "orig_sjoined_df = gpd.sjoin(orig_gdf, epsg_gdf, how=\"left\")"
   ]
  },
  {
   "cell_type": "code",
   "execution_count": 31,
   "metadata": {},
   "outputs": [
    {
     "data": {
      "text/plain": [
       "9893     4\n",
       "42144    4\n",
       "46104    4\n",
       "40652    4\n",
       "11088    4\n",
       "        ..\n",
       "20841    1\n",
       "20838    1\n",
       "20837    1\n",
       "20836    1\n",
       "25747    1\n",
       "Name: my_id, Length: 41219, dtype: int64"
      ]
     },
     "execution_count": 31,
     "metadata": {},
     "output_type": "execute_result"
    }
   ],
   "source": [
    "# So some of these have a *lot* of geometries\n",
    "orig_sjoined_df[\"my_id\"].value_counts()"
   ]
  },
  {
   "cell_type": "code",
   "execution_count": 33,
   "metadata": {},
   "outputs": [
    {
     "data": {
      "text/plain": [
       "10"
      ]
     },
     "execution_count": 33,
     "metadata": {},
     "output_type": "execute_result"
    }
   ],
   "source": [
    "# and a very small number don't have any epsg womp womp\n",
    "orig_sjoined_df[\"epsg\"].isna().sum()"
   ]
  },
  {
   "cell_type": "code",
   "execution_count": 36,
   "metadata": {},
   "outputs": [
    {
     "data": {
      "text/plain": [
       "<AxesSubplot: >"
      ]
     },
     "execution_count": 36,
     "metadata": {},
     "output_type": "execute_result"
    },
    {
     "data": {
      "image/png": "[encoded data removed]",
      "text/plain": [
       "<Figure size 640x480 with 1 Axes>"
      ]
     },
     "metadata": {},
     "output_type": "display_data"
    }
   ],
   "source": [
    "# These seem to be in Alaska and Puerto Rico, which isn't super shocking. We can ignore\n",
    "# these for this analysis\n",
    "orig_sjoined_df[orig_sjoined_df[\"epsg\"].isna()].plot()"
   ]
  },
  {
   "cell_type": "code",
   "execution_count": 37,
   "metadata": {},
   "outputs": [
    {
     "name": "stderr",
     "output_type": "stream",
     "text": [
      "/var/folders/_8/wxdcgmrd7b931622mzvpxn6c0000gq/T/ipykernel_74141/3180315460.py:1: UserWarning: CRS mismatch between the CRS of left geometries and the CRS of right geometries.\n",
      "Use `to_crs()` to reproject one of the input geometries to match the CRS of the other.\n",
      "\n",
      "Left CRS: EPSG:4326\n",
      "Right CRS: None\n",
      "\n",
      "  cg_sjoined_df = gpd.sjoin(cg_gdf, epsg_gdf, how=\"left\")\n"
     ]
    }
   ],
   "source": [
    "cg_sjoined_df = gpd.sjoin(cg_gdf, epsg_gdf, how=\"left\")"
   ]
  },
  {
   "cell_type": "code",
   "execution_count": 38,
   "metadata": {},
   "outputs": [
    {
     "data": {
      "text/plain": [
       "42222    4\n",
       "9912     4\n",
       "10605    4\n",
       "39632    4\n",
       "13150    4\n",
       "        ..\n",
       "20852    1\n",
       "20851    1\n",
       "20849    1\n",
       "20847    1\n",
       "25747    1\n",
       "Name: my_id, Length: 41219, dtype: int64"
      ]
     },
     "execution_count": 38,
     "metadata": {},
     "output_type": "execute_result"
    }
   ],
   "source": [
    "# So some of these have a *lot* of geometries\n",
    "cg_sjoined_df[\"my_id\"].value_counts()"
   ]
  },
  {
   "cell_type": "code",
   "execution_count": 40,
   "metadata": {},
   "outputs": [
    {
     "data": {
      "text/plain": [
       "1"
      ]
     },
     "execution_count": 40,
     "metadata": {},
     "output_type": "execute_result"
    }
   ],
   "source": [
    "# and a very small number don't have any epsg womp womp\n",
    "cg_sjoined_df[\"epsg\"].isna().sum()"
   ]
  },
  {
   "cell_type": "code",
   "execution_count": 41,
   "metadata": {},
   "outputs": [
    {
     "data": {
      "text/plain": [
       "<AxesSubplot: >"
      ]
     },
     "execution_count": 41,
     "metadata": {},
     "output_type": "execute_result"
    },
    {
     "data": {
      "image/png": "[encoded data removed]",
      "text/plain": [
       "<Figure size 640x480 with 1 Axes>"
      ]
     },
     "metadata": {},
     "output_type": "display_data"
    }
   ],
   "source": [
    "# This also seems to be in Alaska. So we'll again ignore this\n",
    "cg_sjoined_df[cg_sjoined_df[\"epsg\"].isna()].plot()"
   ]
  },
  {
   "cell_type": "code",
   "execution_count": 54,
   "metadata": {},
   "outputs": [],
   "source": [
    "# Which to choose?\n",
    "joined_epsg = orig_sjoined_df.drop(columns=\"index_right\").merge(\n",
    "    cg_sjoined_df.rename(columns={\"epsg\": \"cg_epsg\", \"geometry\": \"cg_geometry\"}).drop(\n",
    "        columns=[\"index_right\"]\n",
    "    ),\n",
    "    how=\"left\",\n",
    "    on=\"my_id\",\n",
    ")"
   ]
  },
  {
   "cell_type": "code",
   "execution_count": 55,
   "metadata": {},
   "outputs": [
    {
     "name": "stdout",
     "output_type": "stream",
     "text": [
      "How many share at least one common EPSG? 41208\n",
      "How many are there? 41219\n"
     ]
    }
   ],
   "source": [
    "# So all but 9 share at least one EPSG\n",
    "print(\n",
    "    f\"How many share at least one common EPSG? {joined_epsg[joined_epsg['epsg'] == joined_epsg['cg_epsg']]['my_id'].nunique()}\"\n",
    ")\n",
    "print(f\"How many are there? {joined_epsg['my_id'].nunique()}\")"
   ]
  },
  {
   "cell_type": "code",
   "execution_count": 65,
   "metadata": {},
   "outputs": [],
   "source": [
    "# Let's just take the first in order; though we should examine this\n",
    "of_interest = joined_epsg[joined_epsg[\"epsg\"] == joined_epsg[\"cg_epsg\"]]"
   ]
  },
  {
   "cell_type": "code",
   "execution_count": 76,
   "metadata": {},
   "outputs": [
    {
     "name": "stderr",
     "output_type": "stream",
     "text": [
      "100%|██████████| 60351/60351 [09:50<00:00, 102.24it/s]\n"
     ]
    }
   ],
   "source": [
    "WGS_CRS = CRS(4326)\n",
    "\n",
    "# This is going to take a long time because there's a different CRS for every pair\n",
    "# Really this should be able to be a lot faster but yay python for loops :-)\n",
    "geometry_crs_x = []\n",
    "geometry_crs_y = []\n",
    "cg_geometry_crs_x = []\n",
    "cg_geometry_crs_y = []\n",
    "for _, row in tqdm(of_interest.iterrows(), total=len(of_interest)):\n",
    "    transformer = Transformer.from_crs(WGS_CRS, CRS(int(row[\"epsg\"])))\n",
    "    geo = transformer.transform(row[\"geometry\"].y, row[\"geometry\"].x)\n",
    "    geometry_crs_x.append(geo[0])\n",
    "    geometry_crs_y.append(geo[1])\n",
    "    geo = transformer.transform(row[\"cg_geometry\"].y, row[\"cg_geometry\"].x)\n",
    "    cg_geometry_crs_x.append(geo[0])\n",
    "    cg_geometry_crs_y.append(geo[1])"
   ]
  },
  {
   "cell_type": "code",
   "execution_count": 82,
   "metadata": {},
   "outputs": [
    {
     "name": "stderr",
     "output_type": "stream",
     "text": [
      "/Users/kwilso14/repo/fun/redo-lihtc/.venv/lib/python3.8/site-packages/geopandas/geodataframe.py:1443: SettingWithCopyWarning: \n",
      "A value is trying to be set on a copy of a slice from a DataFrame.\n",
      "Try using .loc[row_indexer,col_indexer] = value instead\n",
      "\n",
      "See the caveats in the documentation: https://pandas.pydata.org/pandas-docs/stable/user_guide/indexing.html#returning-a-view-versus-a-copy\n",
      "  super().__setitem__(key, value)\n"
     ]
    }
   ],
   "source": [
    "of_interest[\"cg_geometry_crs_x\"] = cg_geometry_crs_x\n",
    "of_interest[\"cg_geometry_crs_y\"] = cg_geometry_crs_y\n",
    "of_interest[\"geometry_crs_x\"] = geometry_crs_x\n",
    "of_interest[\"geometry_crs_y\"] = geometry_crs_y\n",
    "of_interest[\"geometry_dist_m\"] = np.sqrt(\n",
    "    (of_interest[\"cg_geometry_crs_x\"] - of_interest[\"geometry_crs_x\"]) ** 2\n",
    "    + (of_interest[\"cg_geometry_crs_y\"] - of_interest[\"geometry_crs_y\"]) ** 2\n",
    ")"
   ]
  },
  {
   "cell_type": "code",
   "execution_count": 87,
   "metadata": {},
   "outputs": [
    {
     "data": {
      "text/plain": [
       "4.826834570634674"
      ]
     },
     "execution_count": 87,
     "metadata": {},
     "output_type": "execute_result"
    }
   ],
   "source": [
    "# So among those places that have different CRSs, the distances are off by up to 5m\n",
    "(\n",
    "    of_interest.groupby(\"my_id\")[\"geometry_dist_m\"].max()\n",
    "    - of_interest.groupby(\"my_id\")[\"geometry_dist_m\"].min()\n",
    ").max()"
   ]
  },
  {
   "cell_type": "code",
   "execution_count": 99,
   "metadata": {},
   "outputs": [
    {
     "data": {
      "image/png": "[encoded data removed]",
      "text/plain": [
       "<Figure size 640x480 with 1 Axes>"
      ]
     },
     "metadata": {},
     "output_type": "display_data"
    }
   ],
   "source": [
    "# What do the least differences look like? Looks like 10-1000m is pretty typical for this subset!\n",
    "of_interest.groupby(\"my_id\")[\"geometry_dist_m\"].min().hist(\n",
    "    log=True, bins=np.logspace(-2, 5, num=50, base=10)\n",
    ")\n",
    "plt.xscale(\"log\")"
   ]
  },
  {
   "cell_type": "code",
   "execution_count": null,
   "metadata": {},
   "outputs": [],
   "source": []
  }
 ],
 "metadata": {
  "kernelspec": {
   "display_name": "Python 3.8.6 ('.venv': poetry)",
   "language": "python",
   "name": "python3"
  },
  "language_info": {
   "codemirror_mode": {
    "name": "ipython",
    "version": 3
   },
   "file_extension": ".py",
   "mimetype": "text/x-python",
   "name": "python",
   "nbconvert_exporter": "python",
   "pygments_lexer": "ipython3",
   "version": "3.8.6"
  },
  "orig_nbformat": 4,
  "vscode": {
   "interpreter": {
    "hash": "e6f208f86cf81ef1d06e920d2199aefb878f9f143349e6ce69bb33f6e1cd3320"
   }
  }
 },
 "nbformat": 4,
 "nbformat_minor": 2
}
