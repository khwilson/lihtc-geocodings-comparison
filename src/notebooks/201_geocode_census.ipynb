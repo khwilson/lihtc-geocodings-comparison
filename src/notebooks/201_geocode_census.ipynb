{
 "cells": [
  {
   "cell_type": "code",
   "execution_count": 2,
   "metadata": {},
   "outputs": [],
   "source": [
    "import csv\n",
    "from pathlib import Path\n",
    "\n",
    "import censusgeocode as cg\n",
    "import duckdb\n",
    "import numpy as np\n",
    "import pandas as pd\n",
    "from tqdm import tqdm"
   ]
  },
  {
   "cell_type": "code",
   "execution_count": 3,
   "metadata": {},
   "outputs": [],
   "source": [
    "DATA_DIR = Path.cwd().parent.parent / \"data\"\n",
    "GEOCODED_DIR = DATA_DIR / \"geocoded\"\n",
    "\n",
    "GEOCODED_DIR.mkdir(parents=True, exist_ok=True)"
   ]
  },
  {
   "cell_type": "code",
   "execution_count": 4,
   "metadata": {},
   "outputs": [],
   "source": [
    "conn = duckdb.connect(str(DATA_DIR / \"lihtc.duckdb\"))\n",
    "df = conn.query(\"SELECT * FROM lihtc;\").to_df()\n",
    "conn.close()"
   ]
  },
  {
   "cell_type": "code",
   "execution_count": 5,
   "metadata": {},
   "outputs": [
    {
     "data": {
      "text/html": [
       "<div>\n",
       "<style scoped>\n",
       "    .dataframe tbody tr th:only-of-type {\n",
       "        vertical-align: middle;\n",
       "    }\n",
       "\n",
       "    .dataframe tbody tr th {\n",
       "        vertical-align: top;\n",
       "    }\n",
       "\n",
       "    .dataframe thead th {\n",
       "        text-align: right;\n",
       "    }\n",
       "</style>\n",
       "<table border=\"1\" class=\"dataframe\">\n",
       "  <thead>\n",
       "    <tr style=\"text-align: right;\">\n",
       "      <th></th>\n",
       "      <th>hud_id</th>\n",
       "      <th>project</th>\n",
       "      <th>proj_add</th>\n",
       "      <th>proj_cty</th>\n",
       "      <th>proj_st</th>\n",
       "      <th>proj_zip</th>\n",
       "      <th>state_id</th>\n",
       "      <th>latitude</th>\n",
       "      <th>longitude</th>\n",
       "      <th>place1990</th>\n",
       "      <th>...</th>\n",
       "      <th>n_unitsr</th>\n",
       "      <th>li_unitr</th>\n",
       "      <th>metro</th>\n",
       "      <th>dda</th>\n",
       "      <th>qct</th>\n",
       "      <th>nonprog</th>\n",
       "      <th>nlm_reason</th>\n",
       "      <th>nlm_spc</th>\n",
       "      <th>datanote</th>\n",
       "      <th>record_stat</th>\n",
       "    </tr>\n",
       "  </thead>\n",
       "  <tbody>\n",
       "    <tr>\n",
       "      <th>0</th>\n",
       "      <td>AKA0000X003</td>\n",
       "      <td>EAGLE RIDGE TOWNHOMES</td>\n",
       "      <td>1775 NORTH THUMA</td>\n",
       "      <td>PALMER</td>\n",
       "      <td>AK</td>\n",
       "      <td>99645</td>\n",
       "      <td>AK-05-23</td>\n",
       "      <td>61.587872</td>\n",
       "      <td>-149.099777</td>\n",
       "      <td>NaN</td>\n",
       "      <td>...</td>\n",
       "      <td>33.0</td>\n",
       "      <td>33.0</td>\n",
       "      <td>1.0</td>\n",
       "      <td>NaN</td>\n",
       "      <td>NaN</td>\n",
       "      <td>NaN</td>\n",
       "      <td>NaN</td>\n",
       "      <td>NaN</td>\n",
       "      <td>NaN</td>\n",
       "      <td>X</td>\n",
       "    </tr>\n",
       "    <tr>\n",
       "      <th>1</th>\n",
       "      <td>AKA0000X018</td>\n",
       "      <td>GATEWAY-SEWARD ASSOCIATES, LTD PTN</td>\n",
       "      <td>1810 PHOENIX ROAD</td>\n",
       "      <td>SEWARD</td>\n",
       "      <td>AK</td>\n",
       "      <td>99664</td>\n",
       "      <td>AK-99-99</td>\n",
       "      <td>60.125469</td>\n",
       "      <td>-149.446060</td>\n",
       "      <td>NaN</td>\n",
       "      <td>...</td>\n",
       "      <td>20.0</td>\n",
       "      <td>20.0</td>\n",
       "      <td>NaN</td>\n",
       "      <td>NaN</td>\n",
       "      <td>NaN</td>\n",
       "      <td>NaN</td>\n",
       "      <td>NaN</td>\n",
       "      <td>NaN</td>\n",
       "      <td>NaN</td>\n",
       "      <td>X</td>\n",
       "    </tr>\n",
       "    <tr>\n",
       "      <th>2</th>\n",
       "      <td>AKA0000X022</td>\n",
       "      <td>JUNEAU AFFORDABLE RENTALS, LLC</td>\n",
       "      <td>SCATTERED SITE</td>\n",
       "      <td>JUNEAU</td>\n",
       "      <td>AK</td>\n",
       "      <td>99801</td>\n",
       "      <td>AK-99-99</td>\n",
       "      <td>58.383499</td>\n",
       "      <td>-134.437698</td>\n",
       "      <td>NaN</td>\n",
       "      <td>...</td>\n",
       "      <td>25.0</td>\n",
       "      <td>25.0</td>\n",
       "      <td>NaN</td>\n",
       "      <td>NaN</td>\n",
       "      <td>NaN</td>\n",
       "      <td>NaN</td>\n",
       "      <td>NaN</td>\n",
       "      <td>NaN</td>\n",
       "      <td>NaN</td>\n",
       "      <td>X</td>\n",
       "    </tr>\n",
       "    <tr>\n",
       "      <th>3</th>\n",
       "      <td>AKA0000X024</td>\n",
       "      <td>MILL BAY TOWNHOMES, LLC</td>\n",
       "      <td>1223 MILL BAY ROAD</td>\n",
       "      <td>KODIAK</td>\n",
       "      <td>AK</td>\n",
       "      <td>99615</td>\n",
       "      <td>AK-99-99</td>\n",
       "      <td>57.796478</td>\n",
       "      <td>-152.392319</td>\n",
       "      <td>NaN</td>\n",
       "      <td>...</td>\n",
       "      <td>20.0</td>\n",
       "      <td>20.0</td>\n",
       "      <td>NaN</td>\n",
       "      <td>NaN</td>\n",
       "      <td>NaN</td>\n",
       "      <td>NaN</td>\n",
       "      <td>NaN</td>\n",
       "      <td>NaN</td>\n",
       "      <td>NaN</td>\n",
       "      <td>X</td>\n",
       "    </tr>\n",
       "    <tr>\n",
       "      <th>4</th>\n",
       "      <td>AKA0000X030</td>\n",
       "      <td>TURNAGAIN PLACE APTS</td>\n",
       "      <td>2708 COHO WAY</td>\n",
       "      <td>ANCHORAGE</td>\n",
       "      <td>AK</td>\n",
       "      <td>99517</td>\n",
       "      <td>AK-99-99</td>\n",
       "      <td>61.205101</td>\n",
       "      <td>-149.930298</td>\n",
       "      <td>NaN</td>\n",
       "      <td>...</td>\n",
       "      <td>29.0</td>\n",
       "      <td>29.0</td>\n",
       "      <td>NaN</td>\n",
       "      <td>NaN</td>\n",
       "      <td>NaN</td>\n",
       "      <td>NaN</td>\n",
       "      <td>NaN</td>\n",
       "      <td>NaN</td>\n",
       "      <td>NaN</td>\n",
       "      <td>X</td>\n",
       "    </tr>\n",
       "  </tbody>\n",
       "</table>\n",
       "<p>5 rows × 75 columns</p>\n",
       "</div>"
      ],
      "text/plain": [
       "        hud_id                             project            proj_add  \\\n",
       "0  AKA0000X003               EAGLE RIDGE TOWNHOMES    1775 NORTH THUMA   \n",
       "1  AKA0000X018  GATEWAY-SEWARD ASSOCIATES, LTD PTN   1810 PHOENIX ROAD   \n",
       "2  AKA0000X022      JUNEAU AFFORDABLE RENTALS, LLC      SCATTERED SITE   \n",
       "3  AKA0000X024             MILL BAY TOWNHOMES, LLC  1223 MILL BAY ROAD   \n",
       "4  AKA0000X030                TURNAGAIN PLACE APTS       2708 COHO WAY   \n",
       "\n",
       "    proj_cty proj_st proj_zip  state_id   latitude   longitude  place1990  \\\n",
       "0     PALMER      AK    99645  AK-05-23  61.587872 -149.099777        NaN   \n",
       "1     SEWARD      AK    99664  AK-99-99  60.125469 -149.446060        NaN   \n",
       "2     JUNEAU      AK    99801  AK-99-99  58.383499 -134.437698        NaN   \n",
       "3     KODIAK      AK    99615  AK-99-99  57.796478 -152.392319        NaN   \n",
       "4  ANCHORAGE      AK    99517  AK-99-99  61.205101 -149.930298        NaN   \n",
       "\n",
       "   ...  n_unitsr  li_unitr metro dda qct  nonprog  nlm_reason  nlm_spc  \\\n",
       "0  ...      33.0      33.0   1.0 NaN NaN      NaN         NaN      NaN   \n",
       "1  ...      20.0      20.0   NaN NaN NaN      NaN         NaN      NaN   \n",
       "2  ...      25.0      25.0   NaN NaN NaN      NaN         NaN      NaN   \n",
       "3  ...      20.0      20.0   NaN NaN NaN      NaN         NaN      NaN   \n",
       "4  ...      29.0      29.0   NaN NaN NaN      NaN         NaN      NaN   \n",
       "\n",
       "   datanote  record_stat  \n",
       "0       NaN            X  \n",
       "1       NaN            X  \n",
       "2       NaN            X  \n",
       "3       NaN            X  \n",
       "4       NaN            X  \n",
       "\n",
       "[5 rows x 75 columns]"
      ]
     },
     "execution_count": 5,
     "metadata": {},
     "output_type": "execute_result"
    }
   ],
   "source": [
    "df.head()"
   ]
  },
  {
   "cell_type": "code",
   "execution_count": 6,
   "metadata": {},
   "outputs": [],
   "source": [
    "df[\"my_id\"] = np.arange(len(df), dtype=int)\n",
    "data = df[[\"my_id\", \"proj_add\", \"proj_cty\", \"proj_st\", \"proj_zip\"]]"
   ]
  },
  {
   "cell_type": "code",
   "execution_count": 7,
   "metadata": {},
   "outputs": [
    {
     "data": {
      "text/plain": [
       "my_id          0\n",
       "proj_add     987\n",
       "proj_cty      42\n",
       "proj_st        0\n",
       "proj_zip    3106\n",
       "dtype: int64"
      ]
     },
     "execution_count": 7,
     "metadata": {},
     "output_type": "execute_result"
    }
   ],
   "source": [
    "# Some decent amount of missing data\n",
    "# ZIP code doesn't really matter (I think), so let's just drop missing address and cty\n",
    "data.isna().sum()"
   ]
  },
  {
   "cell_type": "code",
   "execution_count": 8,
   "metadata": {},
   "outputs": [],
   "source": [
    "data2 = data[data[\"proj_add\"].notna() & data[\"proj_cty\"].notna()]"
   ]
  },
  {
   "cell_type": "code",
   "execution_count": 9,
   "metadata": {},
   "outputs": [
    {
     "name": "stderr",
     "output_type": "stream",
     "text": [
      "/var/folders/_8/wxdcgmrd7b931622mzvpxn6c0000gq/T/ipykernel_73215/653356926.py:2: SettingWithCopyWarning: \n",
      "A value is trying to be set on a copy of a slice from a DataFrame.\n",
      "Try using .loc[row_indexer,col_indexer] = value instead\n",
      "\n",
      "See the caveats in the documentation: https://pandas.pydata.org/pandas-docs/stable/user_guide/indexing.html#returning-a-view-versus-a-copy\n",
      "  data2[\"my_zip\"] = data2[\"proj_zip\"].str[:5]\n",
      "/var/folders/_8/wxdcgmrd7b931622mzvpxn6c0000gq/T/ipykernel_73215/653356926.py:3: SettingWithCopyWarning: \n",
      "A value is trying to be set on a copy of a slice from a DataFrame\n",
      "\n",
      "See the caveats in the documentation: https://pandas.pydata.org/pandas-docs/stable/user_guide/indexing.html#returning-a-view-versus-a-copy\n",
      "  data2.drop(columns=\"proj_zip\", inplace=True)\n"
     ]
    }
   ],
   "source": [
    "# Keep to 5-digit ZIP codes\n",
    "data2[\"my_zip\"] = data2[\"proj_zip\"].str[:5]\n",
    "data2.drop(columns=\"proj_zip\", inplace=True)"
   ]
  },
  {
   "cell_type": "code",
   "execution_count": 10,
   "metadata": {},
   "outputs": [],
   "source": [
    "import io\n",
    "\n",
    "def get_io(df) -> io.StringIO:\n",
    "    s = io.StringIO()\n",
    "    writer = csv.writer(s)\n",
    "    writer.writerows(df.values)\n",
    "    s.seek(0)\n",
    "    return s\n",
    "\n",
    "s = get_io(data2)"
   ]
  },
  {
   "cell_type": "code",
   "execution_count": 11,
   "metadata": {},
   "outputs": [
    {
     "name": "stdout",
     "output_type": "stream",
     "text": [
      "0,1775 NORTH THUMA,PALMER,AK,99645\n",
      "1,1810 PHOENIX ROAD,SEWARD,AK,99664\n",
      "2,SCATTERED SITE,JUNEAU,AK,99801\n",
      "3,1223 MILL BAY ROAD,KODIAK,AK,99615\n",
      "4,2708 COHO WAY,ANCHORAGE,AK,99517\n",
      "5,1250 N LUCILLE ST,WASILLA,AK,99654\n",
      "6,1240 N LUCILLE ST,WASILLA,AK,99654\n",
      "7,402-451 NORTH YENLO STREET,WASILLA,AK,99654\n",
      "8,41718 CRESTED CRANE ST,HOMER,AK,99603\n",
      "9,660 SOUTH YORKTOWN,KETCHIKAN,AK,99901\n",
      "10,2012 SANDVIK ST,FAIRBANKS,AK,99709\n",
      "11,103 BURKHART DR,SITKA,AK,99835\n",
      "12,190 PARKWOOD CIR,SOLDOTNA,AK,99669\n",
      "14,1200 S CENTURY CIR,WASILLA,AK,99654\n",
      "15,231 GASTINEAU AVE,JUNEAU,AK,99801\n",
      "16,10601 SPRUCE VIEW LOOP,ANCHORAGE,AK,99507\n",
      "17,429 D ST,ANCHORAGE,AK,99501\n",
      "18,925 SOUTH CHUGACH,PALMER,AK,99645\n",
      "19,429 D ST.,ANCHORAGE,AK,99501\n",
      "20,1300 N YORKTOWN DR,KETCHIKAN,AK,99901\n",
      "21,HAMPSTEAD CT,ANCHORAGE,AK,99518\n",
      "22,1801 DOUGLAS HWY,JUNEAU,AK,99824\n",
      "23,9200 INDEPENDENCE DR,ANCHORAGE,AK,99507\n",
      "24,401 ORCA AVE,CORDOVA,AK,99574\n",
      "25,310 W 76TH AVE,ANCHORAGE,AK,99518\n",
      "26,315 BARROW ST,ANCORAGE,AK,99501\n",
      "27,301 \n"
     ]
    }
   ],
   "source": [
    "# Make sure that looks right\n",
    "s.seek(0)\n",
    "print(s.read(1_000))"
   ]
  },
  {
   "cell_type": "code",
   "execution_count": 11,
   "metadata": {},
   "outputs": [
    {
     "name": "stderr",
     "output_type": "stream",
     "text": [
      "100%|██████████| 50/50 [37:11<00:00, 44.63s/it]\n"
     ]
    }
   ],
   "source": [
    "# It does, so let's loop!\n",
    "step_size = 1_000\n",
    "output = []\n",
    "for i in tqdm(range(0, len(data2), step_size)):\n",
    "    subset = data2.iloc[i:i+step_size]\n",
    "    s = get_io(subset)\n",
    "    blah = cg.addressbatch(s)\n",
    "    output.append(blah)"
   ]
  },
  {
   "cell_type": "code",
   "execution_count": 14,
   "metadata": {},
   "outputs": [],
   "source": [
    "geocoded_df = pd.concat(map(pd.DataFrame, output))"
   ]
  },
  {
   "cell_type": "code",
   "execution_count": 19,
   "metadata": {},
   "outputs": [],
   "source": [
    "geocoded_df[\"id\"] = geocoded_df[\"id\"].astype(int)"
   ]
  },
  {
   "cell_type": "code",
   "execution_count": 1,
   "metadata": {},
   "outputs": [
    {
     "ename": "NameError",
     "evalue": "name 'df' is not defined",
     "output_type": "error",
     "traceback": [
      "\u001b[0;31m---------------------------------------------------------------------------\u001b[0m",
      "\u001b[0;31mNameError\u001b[0m                                 Traceback (most recent call last)",
      "Cell \u001b[0;32mIn [1], line 1\u001b[0m\n\u001b[0;32m----> 1\u001b[0m merged_df \u001b[39m=\u001b[39m df\u001b[39m.\u001b[39mmerge(\n\u001b[1;32m      2\u001b[0m     geocoded_df,\n\u001b[1;32m      3\u001b[0m     how\u001b[39m=\u001b[39m\u001b[39m\"\u001b[39m\u001b[39mleft\u001b[39m\u001b[39m\"\u001b[39m,\n\u001b[1;32m      4\u001b[0m     left_on\u001b[39m=\u001b[39m\u001b[39m\"\u001b[39m\u001b[39mmy_id\u001b[39m\u001b[39m\"\u001b[39m,\n\u001b[1;32m      5\u001b[0m     right_on\u001b[39m=\u001b[39m\u001b[39m\"\u001b[39m\u001b[39mid\u001b[39m\u001b[39m\"\u001b[39m,\n\u001b[1;32m      6\u001b[0m )\n",
      "\u001b[0;31mNameError\u001b[0m: name 'df' is not defined"
     ]
    }
   ],
   "source": [
    "merged_df = df.merge(\n",
    "    geocoded_df,\n",
    "    how=\"left\",\n",
    "    left_on=\"my_id\",\n",
    "    right_on=\"id\",\n",
    ")"
   ]
  },
  {
   "cell_type": "code",
   "execution_count": 20,
   "metadata": {},
   "outputs": [],
   "source": [
    "merged_df.to_parquet(GEOCODED_DIR / \"census_geocoder.parquet\")"
   ]
  }
 ],
 "metadata": {
  "kernelspec": {
   "display_name": "Python 3.8.6 ('.venv': poetry)",
   "language": "python",
   "name": "python3"
  },
  "language_info": {
   "codemirror_mode": {
    "name": "ipython",
    "version": 3
   },
   "file_extension": ".py",
   "mimetype": "text/x-python",
   "name": "python",
   "nbconvert_exporter": "python",
   "pygments_lexer": "ipython3",
   "version": "3.8.6"
  },
  "orig_nbformat": 4,
  "vscode": {
   "interpreter": {
    "hash": "e6f208f86cf81ef1d06e920d2199aefb878f9f143349e6ce69bb33f6e1cd3320"
   }
  }
 },
 "nbformat": 4,
 "nbformat_minor": 2
}
